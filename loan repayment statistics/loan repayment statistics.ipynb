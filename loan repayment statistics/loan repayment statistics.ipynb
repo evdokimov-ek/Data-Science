{
 "cells": [
  {
   "cell_type": "markdown",
   "metadata": {},
   "source": [
    "## Исследование надёжности заёмщиков\n",
    "\n",
    "Заказчик — кредитный отдел банка. Необходимо разобраться, влияет ли семейное положение и количество детей клиента на факт погашения кредита в срок. Входные данные от банка — статистика о платёжеспособности клиентов.\n",
    "\n",
    "Результаты исследования будут учтены при построении модели **кредитного скоринга** — специальной системы, которая оценивает способность потенциального заёмщика вернуть кредит банку."
   ]
  },
  {
   "cell_type": "markdown",
   "metadata": {},
   "source": [
    "### Шаг 1. Откроем файл с данными и изучим общую информацию. "
   ]
  },
  {
   "cell_type": "code",
   "execution_count": 1,
   "metadata": {},
   "outputs": [
    {
     "name": "stdout",
     "output_type": "stream",
     "text": [
      "<class 'pandas.core.frame.DataFrame'>\n",
      "RangeIndex: 21525 entries, 0 to 21524\n",
      "Data columns (total 12 columns):\n",
      "children            21525 non-null int64\n",
      "days_employed       19351 non-null float64\n",
      "dob_years           21525 non-null int64\n",
      "education           21525 non-null object\n",
      "education_id        21525 non-null int64\n",
      "family_status       21525 non-null object\n",
      "family_status_id    21525 non-null int64\n",
      "gender              21525 non-null object\n",
      "income_type         21525 non-null object\n",
      "debt                21525 non-null int64\n",
      "total_income        19351 non-null float64\n",
      "purpose             21525 non-null object\n",
      "dtypes: float64(2), int64(5), object(5)\n",
      "memory usage: 2.0+ MB\n"
     ]
    }
   ],
   "source": [
    "import pandas as pd\n",
    "data = pd.read_csv('/datasets/data.csv') \n",
    "data.info() "
   ]
  },
  {
   "cell_type": "markdown",
   "metadata": {},
   "source": [
    "Датасет состоит из 12 столбцов, в которых по 21 525 строк. 2 столбца содержат нулевые данные, в них по 19 351 не нулевых строк, соответственно нулевых 21 525 - 19 351 = 2174 строк. В следующем шаге будем заполнять пропуски. Считаю что просто отбросить их нельзя, так как это 10% ценной информации (например количество детей и наличие задолженности). total_income можно заполнить средними значениями в группировке по income_type. days_employed в зависимости от возраста dob_years."
   ]
  },
  {
   "cell_type": "code",
   "execution_count": 2,
   "metadata": {},
   "outputs": [
    {
     "data": {
      "text/html": [
       "<div>\n",
       "<style scoped>\n",
       "    .dataframe tbody tr th:only-of-type {\n",
       "        vertical-align: middle;\n",
       "    }\n",
       "\n",
       "    .dataframe tbody tr th {\n",
       "        vertical-align: top;\n",
       "    }\n",
       "\n",
       "    .dataframe thead th {\n",
       "        text-align: right;\n",
       "    }\n",
       "</style>\n",
       "<table border=\"1\" class=\"dataframe\">\n",
       "  <thead>\n",
       "    <tr style=\"text-align: right;\">\n",
       "      <th></th>\n",
       "      <th>days_employed</th>\n",
       "      <th>dob_years</th>\n",
       "    </tr>\n",
       "  </thead>\n",
       "  <tbody>\n",
       "    <tr>\n",
       "      <td>count</td>\n",
       "      <td>19351.000000</td>\n",
       "      <td>21525.000000</td>\n",
       "    </tr>\n",
       "    <tr>\n",
       "      <td>mean</td>\n",
       "      <td>63046.497661</td>\n",
       "      <td>43.293380</td>\n",
       "    </tr>\n",
       "    <tr>\n",
       "      <td>std</td>\n",
       "      <td>140827.311974</td>\n",
       "      <td>12.574584</td>\n",
       "    </tr>\n",
       "    <tr>\n",
       "      <td>min</td>\n",
       "      <td>-18388.949901</td>\n",
       "      <td>0.000000</td>\n",
       "    </tr>\n",
       "    <tr>\n",
       "      <td>25%</td>\n",
       "      <td>-2747.423625</td>\n",
       "      <td>33.000000</td>\n",
       "    </tr>\n",
       "    <tr>\n",
       "      <td>50%</td>\n",
       "      <td>-1203.369529</td>\n",
       "      <td>42.000000</td>\n",
       "    </tr>\n",
       "    <tr>\n",
       "      <td>75%</td>\n",
       "      <td>-291.095954</td>\n",
       "      <td>53.000000</td>\n",
       "    </tr>\n",
       "    <tr>\n",
       "      <td>max</td>\n",
       "      <td>401755.400475</td>\n",
       "      <td>75.000000</td>\n",
       "    </tr>\n",
       "  </tbody>\n",
       "</table>\n",
       "</div>"
      ],
      "text/plain": [
       "       days_employed     dob_years\n",
       "count   19351.000000  21525.000000\n",
       "mean    63046.497661     43.293380\n",
       "std    140827.311974     12.574584\n",
       "min    -18388.949901      0.000000\n",
       "25%     -2747.423625     33.000000\n",
       "50%     -1203.369529     42.000000\n",
       "75%      -291.095954     53.000000\n",
       "max    401755.400475     75.000000"
      ]
     },
     "execution_count": 2,
     "metadata": {},
     "output_type": "execute_result"
    }
   ],
   "source": [
    "data[['days_employed','dob_years']].describe()"
   ]
  },
  {
   "cell_type": "code",
   "execution_count": 3,
   "metadata": {},
   "outputs": [
    {
     "data": {
      "text/plain": [
       "income_type\n",
       "безработный        366413.652744\n",
       "в декрете           -3296.759962\n",
       "госслужащий         -3399.896902\n",
       "компаньон           -2111.524398\n",
       "пенсионер          365003.491245\n",
       "предприниматель      -520.848083\n",
       "сотрудник           -2326.499216\n",
       "студент              -578.751554\n",
       "Name: days_employed, dtype: float64"
      ]
     },
     "execution_count": 3,
     "metadata": {},
     "output_type": "execute_result"
    }
   ],
   "source": [
    "data.groupby('income_type')['days_employed'].mean()"
   ]
  },
  {
   "cell_type": "markdown",
   "metadata": {},
   "source": [
    "Посмотрели статистику по столбцам days_employed и dob_years\n",
    "Предполгаю ошибку в выгрузке. Необходимо отрицательные числа взять по модулю.\n",
    "У пенсионеров и безработных слишком большие значения, скорее всего это данные в часах, т.к. 365 503 / 24 / 365 =41 год.\n",
    "\n",
    "В рабочем проекте запросили бы у клиента подтверждение догадок или попросили бы перевыгрузить данные корректно."
   ]
  },
  {
   "cell_type": "code",
   "execution_count": 4,
   "metadata": {},
   "outputs": [
    {
     "data": {
      "text/html": [
       "<div>\n",
       "<style scoped>\n",
       "    .dataframe tbody tr th:only-of-type {\n",
       "        vertical-align: middle;\n",
       "    }\n",
       "\n",
       "    .dataframe tbody tr th {\n",
       "        vertical-align: top;\n",
       "    }\n",
       "\n",
       "    .dataframe thead th {\n",
       "        text-align: right;\n",
       "    }\n",
       "</style>\n",
       "<table border=\"1\" class=\"dataframe\">\n",
       "  <thead>\n",
       "    <tr style=\"text-align: right;\">\n",
       "      <th></th>\n",
       "      <th>days_employed</th>\n",
       "      <th>dob_years</th>\n",
       "    </tr>\n",
       "  </thead>\n",
       "  <tbody>\n",
       "    <tr>\n",
       "      <td>count</td>\n",
       "      <td>19351.000000</td>\n",
       "      <td>19351.000000</td>\n",
       "    </tr>\n",
       "    <tr>\n",
       "      <td>mean</td>\n",
       "      <td>4641.141905</td>\n",
       "      <td>43.458927</td>\n",
       "    </tr>\n",
       "    <tr>\n",
       "      <td>std</td>\n",
       "      <td>5355.965045</td>\n",
       "      <td>12.222723</td>\n",
       "    </tr>\n",
       "    <tr>\n",
       "      <td>min</td>\n",
       "      <td>24.000000</td>\n",
       "      <td>19.000000</td>\n",
       "    </tr>\n",
       "    <tr>\n",
       "      <td>25%</td>\n",
       "      <td>926.500000</td>\n",
       "      <td>33.000000</td>\n",
       "    </tr>\n",
       "    <tr>\n",
       "      <td>50%</td>\n",
       "      <td>2194.000000</td>\n",
       "      <td>43.000000</td>\n",
       "    </tr>\n",
       "    <tr>\n",
       "      <td>75%</td>\n",
       "      <td>5537.000000</td>\n",
       "      <td>53.000000</td>\n",
       "    </tr>\n",
       "    <tr>\n",
       "      <td>max</td>\n",
       "      <td>18388.000000</td>\n",
       "      <td>75.000000</td>\n",
       "    </tr>\n",
       "  </tbody>\n",
       "</table>\n",
       "</div>"
      ],
      "text/plain": [
       "       days_employed     dob_years\n",
       "count   19351.000000  19351.000000\n",
       "mean     4641.141905     43.458927\n",
       "std      5355.965045     12.222723\n",
       "min        24.000000     19.000000\n",
       "25%       926.500000     33.000000\n",
       "50%      2194.000000     43.000000\n",
       "75%      5537.000000     53.000000\n",
       "max     18388.000000     75.000000"
      ]
     },
     "execution_count": 4,
     "metadata": {},
     "output_type": "execute_result"
    }
   ],
   "source": [
    "pd.options.mode.chained_assignment = None \n",
    "data['days_employed'][data['days_employed'] < 0] = abs(data['days_employed']) \n",
    "data['days_employed'][data['days_employed'] > 365*70] = data['days_employed'] / 24 \n",
    "data['dob_years'][data['dob_years'] == 0] = data['dob_years'].mean()\n",
    "data_drop = data.dropna(subset = ['days_employed', 'total_income']) \n",
    "data_drop['days_employed'] = data_drop['days_employed'].astype('int64')\n",
    "data_drop[['days_employed','dob_years']].describe()"
   ]
  },
  {
   "cell_type": "markdown",
   "metadata": {},
   "source": [
    "Отрицательное кол-во дней делаем положительным. Аномально большое количество дней разделили на 24, так как это скорее всего часы. Возраст равный 0 заполнили средним. Отбросили пустые строчки, чтобы посмотреть есть ли кореляция между возрастом и стажем."
   ]
  },
  {
   "cell_type": "markdown",
   "metadata": {},
   "source": [
    "Количество дней в days_employed стало нормальным, но необходимо еще заполнить отсутствующие значения"
   ]
  },
  {
   "cell_type": "code",
   "execution_count": 5,
   "metadata": {},
   "outputs": [
    {
     "name": "stdout",
     "output_type": "stream",
     "text": [
      "(0.6524052537172268, 0.0)\n"
     ]
    }
   ],
   "source": [
    "from scipy.stats.stats import pearsonr\n",
    "print(pearsonr(data_drop['days_employed'], data_drop['dob_years'])) "
   ]
  },
  {
   "cell_type": "markdown",
   "metadata": {},
   "source": [
    "Рассчитали кареляцию между возрастом и стажем. Есть кореляция, p-value < 0.05, будем заполнять по линейной регрессии в зависимости от возраста"
   ]
  },
  {
   "cell_type": "markdown",
   "metadata": {},
   "source": [
    "### Шаг 2. Предобработка данных"
   ]
  },
  {
   "cell_type": "markdown",
   "metadata": {},
   "source": [
    "### Обработка пропусков"
   ]
  },
  {
   "cell_type": "code",
   "execution_count": 6,
   "metadata": {},
   "outputs": [
    {
     "name": "stdout",
     "output_type": "stream",
     "text": [
      "count    21525.000000\n",
      "mean      4659.870291\n",
      "std       5189.736694\n",
      "min          0.000000\n",
      "25%        956.536601\n",
      "50%       2360.703095\n",
      "75%       6116.108075\n",
      "max      18388.949901\n",
      "Name: days_employed, dtype: float64\n"
     ]
    }
   ],
   "source": [
    "from scipy.stats import linregress\n",
    "x = data_drop.dob_years\n",
    "y = data_drop.days_employed\n",
    "slope, intercept, r, p_value, std_err = linregress(x, y) \n",
    "print(slope, intercept, r, p_value, std_err)\n",
    "data.days_employed = data.days_employed.fillna(intercept + slope * data.dob_years) \n",
    "data.days_employed[data.days_employed<0] = 0 \n",
    "print(data.days_employed.describe())"
   ]
  },
  {
   "cell_type": "markdown",
   "metadata": {},
   "source": [
    "Рассчитали линейную решрессию. Заполнили пустые значения по линейной регрессии. На слишком маленький возраст заполняется отрицательный стаж, поставили 0."
   ]
  },
  {
   "cell_type": "markdown",
   "metadata": {},
   "source": [
    "Пропуски в days_employed заполнены, переходим на total_income. Записали уникальные типы дохода в переменную types. Цикл пробегает по всем типам дохода и записывает по нему медиану."
   ]
  },
  {
   "cell_type": "code",
   "execution_count": 7,
   "metadata": {},
   "outputs": [
    {
     "name": "stdout",
     "output_type": "stream",
     "text": [
      "Заполням такими средними значениями:\n",
      "сотрудник 142594.39684740017\n",
      "пенсионер 118514.48641164352\n",
      "компаньон 172357.95096577113\n",
      "госслужащий 150447.9352830068\n",
      "безработный 131339.7516762103\n",
      "предприниматель 499163.1449470857\n",
      "студент 98201.62531401133\n",
      "в декрете 53829.13072905995\n",
      "____________________\n",
      "<class 'pandas.core.frame.DataFrame'>\n",
      "RangeIndex: 21525 entries, 0 to 21524\n",
      "Data columns (total 12 columns):\n",
      "children            21525 non-null int64\n",
      "days_employed       21525 non-null float64\n",
      "dob_years           21525 non-null float64\n",
      "education           21525 non-null object\n",
      "education_id        21525 non-null int64\n",
      "family_status       21525 non-null object\n",
      "family_status_id    21525 non-null int64\n",
      "gender              21525 non-null object\n",
      "income_type         21525 non-null object\n",
      "debt                21525 non-null int64\n",
      "total_income        21525 non-null float64\n",
      "purpose             21525 non-null object\n",
      "dtypes: float64(3), int64(4), object(5)\n",
      "memory usage: 2.0+ MB\n",
      "None\n"
     ]
    }
   ],
   "source": [
    "types = data.income_type.unique() \n",
    "print('Заполням такими средними значениями:')\n",
    "for item in types:\n",
    "    median = data.loc[data['income_type']==item]['total_income'].median() \n",
    "    print(item, median)\n",
    "    data.loc[data['income_type']==item] = data.loc[data['income_type']==item].fillna(median)      \n",
    "print('____________________')\n",
    "print(data.info())"
   ]
  },
  {
   "cell_type": "markdown",
   "metadata": {},
   "source": [
    "Проверка показывает, что пустых значений больше нет."
   ]
  },
  {
   "cell_type": "markdown",
   "metadata": {},
   "source": [
    "### В датасете были найдены пропущенные значения и аномалии. В столбце dob_years были обнаружены 0. Они были заменены на среднее арифметическое. В столбце days_employed отрицательные значения были заменены на положительные, аномально большие разделены на 24 (часы), пропуски были заполнены методом линейной регрессии отталкиваясь от возраста. В столбце total_income пропуски были заполнены средними по аналогичным income_type."
   ]
  },
  {
   "cell_type": "markdown",
   "metadata": {},
   "source": [
    "### Замена типа данных"
   ]
  },
  {
   "cell_type": "code",
   "execution_count": 8,
   "metadata": {},
   "outputs": [
    {
     "name": "stdout",
     "output_type": "stream",
     "text": [
      "<class 'pandas.core.frame.DataFrame'>\n",
      "RangeIndex: 21525 entries, 0 to 21524\n",
      "Data columns (total 12 columns):\n",
      "children            21525 non-null int64\n",
      "days_employed       21525 non-null int64\n",
      "dob_years           21525 non-null int64\n",
      "education           21525 non-null object\n",
      "education_id        21525 non-null int64\n",
      "family_status       21525 non-null object\n",
      "family_status_id    21525 non-null int64\n",
      "gender              21525 non-null object\n",
      "income_type         21525 non-null object\n",
      "debt                21525 non-null int64\n",
      "total_income        21525 non-null int64\n",
      "purpose             21525 non-null object\n",
      "dtypes: int64(7), object(5)\n",
      "memory usage: 2.0+ MB\n",
      "None\n"
     ]
    }
   ],
   "source": [
    "data.days_employed = data.days_employed.astype('int64')\n",
    "data.dob_years = data.dob_years.astype('int64')\n",
    "data.total_income = data.total_income.astype('int64')\n",
    "print(data.info())"
   ]
  },
  {
   "cell_type": "markdown",
   "metadata": {},
   "source": [
    "### Все вещественные типы были заменены на целочисленные методом astype потому что с целочисленными удобнее работать. Возраст и стаж у нас не дробный, копейки в доходе можно отбросить"
   ]
  },
  {
   "cell_type": "markdown",
   "metadata": {},
   "source": [
    "### Обработка дубликатов"
   ]
  },
  {
   "cell_type": "code",
   "execution_count": 9,
   "metadata": {},
   "outputs": [
    {
     "name": "stdout",
     "output_type": "stream",
     "text": [
      "До преобразования:\n",
      "education\n",
      "ВЫСШЕЕ                 0\n",
      "Высшее                 0\n",
      "НАЧАЛЬНОЕ              3\n",
      "НЕОКОНЧЕННОЕ ВЫСШЕЕ    2\n",
      "Начальное              3\n",
      "Неоконченное высшее    2\n",
      "СРЕДНЕЕ                1\n",
      "Среднее                1\n",
      "УЧЕНАЯ СТЕПЕНЬ         4\n",
      "Ученая степень         4\n",
      "высшее                 0\n",
      "начальное              3\n",
      "неоконченное высшее    2\n",
      "среднее                1\n",
      "ученая степень         4\n",
      "Name: education_id, dtype: int64\n",
      "После преобразования:\n",
      "education\n",
      "высшее                 0\n",
      "начальное              3\n",
      "неоконченное высшее    2\n",
      "среднее                1\n",
      "ученая степень         4\n",
      "Name: education_id, dtype: int64\n"
     ]
    }
   ],
   "source": [
    "print('До преобразования:')\n",
    "print(data.groupby('education')['education_id'].mean())\n",
    "data.education = data.education.str.lower()\n",
    "data.purpose = data.purpose.str.lower()\n",
    "print('После преобразования:')\n",
    "print(data.groupby('education')['education_id'].mean())"
   ]
  },
  {
   "cell_type": "markdown",
   "metadata": {},
   "source": [
    "Поиск соответствий family_status и family_status_id:"
   ]
  },
  {
   "cell_type": "code",
   "execution_count": 10,
   "metadata": {},
   "outputs": [
    {
     "name": "stdout",
     "output_type": "stream",
     "text": [
      "family_status\n",
      "Не женат / не замужем    4\n",
      "в разводе                3\n",
      "вдовец / вдова           2\n",
      "гражданский брак         1\n",
      "женат / замужем          0\n",
      "Name: family_status_id, dtype: int64\n"
     ]
    }
   ],
   "source": [
    "print(data.groupby('family_status')['family_status_id'].mean())"
   ]
  },
  {
   "cell_type": "code",
   "execution_count": 11,
   "metadata": {},
   "outputs": [
    {
     "name": "stdout",
     "output_type": "stream",
     "text": [
      "gender\n",
      "F      14236\n",
      "M       7288\n",
      "XNA        1\n",
      "Name: gender, dtype: int64\n",
      "gender\n",
      "F    14236\n",
      "M     7288\n",
      "Name: gender, dtype: int64\n"
     ]
    }
   ],
   "source": [
    "print(data.groupby('gender')['gender'].count())\n",
    "i = (data[data['gender'] == 'XNA']).index\n",
    "data = data.drop(i)\n",
    "print(data.groupby('gender')['gender'].count())"
   ]
  },
  {
   "cell_type": "markdown",
   "metadata": {},
   "source": [
    "Удалено лицо без пола. Это всего 1 запись и не повлияет на результаты исследования. Далее осуществили поиск и удаление дубликатов:"
   ]
  },
  {
   "cell_type": "code",
   "execution_count": 12,
   "metadata": {},
   "outputs": [
    {
     "name": "stdout",
     "output_type": "stream",
     "text": [
      "<class 'pandas.core.frame.DataFrame'>\n",
      "RangeIndex: 21453 entries, 0 to 21452\n",
      "Data columns (total 12 columns):\n",
      "children            21453 non-null int64\n",
      "days_employed       21453 non-null int64\n",
      "dob_years           21453 non-null int64\n",
      "education           21453 non-null object\n",
      "education_id        21453 non-null int64\n",
      "family_status       21453 non-null object\n",
      "family_status_id    21453 non-null int64\n",
      "gender              21453 non-null object\n",
      "income_type         21453 non-null object\n",
      "debt                21453 non-null int64\n",
      "total_income        21453 non-null int64\n",
      "purpose             21453 non-null object\n",
      "dtypes: int64(7), object(5)\n",
      "memory usage: 2.0+ MB\n",
      "None\n"
     ]
    }
   ],
   "source": [
    "dup=data[data.duplicated(keep=False)] \n",
    "data = data.drop_duplicates().reset_index(drop=True) \n",
    "print(data.info()) "
   ]
  },
  {
   "cell_type": "markdown",
   "metadata": {},
   "source": [
    "### Прошли по всем столбцам типа object методом groupbuy. Кроме цели кредита (будет рассматриваться далее) и кроме income_type (уже рассмотрено в процессе заполнения пропусков в доходе). Выявлены различия в регистрах в написании образования. Все было приведено в нижний регистр. Также был выявлен неопределенный пол. Так как такая строка всего 1, то она была удалена. После того, как все привели к одном регистру, осуществили поиск дубликатов методом duplicated и удалили их методом drop_duplicates. Разный регистр скорее всего из-за человеческого фактора, так как все люди вводят по-разному. "
   ]
  },
  {
   "cell_type": "markdown",
   "metadata": {},
   "source": [
    "### Лемматизация"
   ]
  },
  {
   "cell_type": "code",
   "execution_count": 13,
   "metadata": {},
   "outputs": [
    {
     "data": {
      "text/plain": [
       "'покупка   жилье \\n приобретение   автомобиль \\n дополнительный   образование \\n сыграть   свадьба \\n операция   с   жилье \\n образование \\n на   проведение   свадьба \\n покупка   жилье   для   семья \\n покупка   недвижимость \\n покупка   коммерческий   недвижимость \\n покупка   жилой   недвижимость \\n строительство   собственный   недвижимость \\n недвижимость \\n строительство   недвижимость \\n на   покупка   подержать   автомобиль \\n на   покупка   свой   автомобиль \\n операция   с   коммерческий   недвижимость \\n строительство   жилой   недвижимость \\n жилье \\n операция   со   свой   недвижимость \\n автомобиль \\n заниматься   образование \\n сделка   с   подержанный   автомобиль \\n получение   образование \\n автомобиль \\n свадьба \\n получение   дополнительный   образование \\n покупка   свой   жилье \\n операция   с   недвижимость \\n получение   высокий   образование \\n свой   автомобиль \\n сделка   с   автомобиль \\n профильный   образование \\n высокий   образование \\n покупка   жилье   для   сдача \\n на   покупка   автомобиль \\n ремонт   жилье \\n заниматься   высокий   образование \\n'"
      ]
     },
     "execution_count": 13,
     "metadata": {},
     "output_type": "execute_result"
    }
   ],
   "source": [
    "from pymystem3 import Mystem\n",
    "m = Mystem()\n",
    "purposes = data['purpose'].unique()\n",
    "lemmas = []\n",
    "for item in purposes:\n",
    "    lemmas += m.lemmatize(item)\n",
    "lemmas = ' '.join(lemmas)\n",
    "lemmas"
   ]
  },
  {
   "cell_type": "markdown",
   "metadata": {},
   "source": [
    "<font color='blue'>Получил основные цели: жилье, автомобиль, образование, свадьба, недвижимость, ремонт\n",
    "</font>\n"
   ]
  },
  {
   "cell_type": "code",
   "execution_count": 14,
   "metadata": {},
   "outputs": [
    {
     "data": {
      "text/plain": [
       "purpose\n",
       "автомобиль      4306\n",
       "жилье           3853\n",
       "недвижимость    6350\n",
       "образование     4013\n",
       "ремонт           607\n",
       "свадьба         2324\n",
       "Name: purpose, dtype: int64"
      ]
     },
     "execution_count": 14,
     "metadata": {},
     "output_type": "execute_result"
    }
   ],
   "source": [
    "def purpose_credit(purpose):\n",
    "    purp = m.lemmatize(purpose)\n",
    "    if 'свадьба' in purp:\n",
    "        return 'свадьба'\n",
    "    if 'ремонт' in purp:\n",
    "        return 'ремонт'\n",
    "    if 'жилье' in purp:\n",
    "        return 'жилье'\n",
    "    if 'автомобиль' in purp:\n",
    "        return 'автомобиль'\n",
    "    if 'образование' in purp:\n",
    "        return 'образование'\n",
    "    if 'недвижимость' in purp:\n",
    "        return 'недвижимость'\n",
    "data['purpose'] = data['purpose'].apply(purpose_credit)                        \n",
    "data.groupby('purpose')['purpose'].count()\n",
    "        "
   ]
  },
  {
   "cell_type": "markdown",
   "metadata": {},
   "source": [
    "### Разбили цели на основные леммы и вывели статистику. Чаще всего берут кредит на жилье+недвижимость, затем автомобиль, образование, свадьбу, ремонт."
   ]
  },
  {
   "cell_type": "markdown",
   "metadata": {},
   "source": [
    "### Категоризация данных"
   ]
  },
  {
   "cell_type": "markdown",
   "metadata": {},
   "source": [
    "Создадим словари family_status_dict и education_dict:"
   ]
  },
  {
   "cell_type": "code",
   "execution_count": 15,
   "metadata": {},
   "outputs": [
    {
     "name": "stdout",
     "output_type": "stream",
     "text": [
      "   family_status_id          family_status\n",
      "0                 0        женат / замужем\n",
      "1                 1       гражданский брак\n",
      "2                 2         вдовец / вдова\n",
      "3                 3              в разводе\n",
      "4                 4  Не женат / не замужем\n",
      "   education_id            education\n",
      "0             0               высшее\n",
      "1             1              среднее\n",
      "2             2  неоконченное высшее\n",
      "3             3            начальное\n",
      "4             4       ученая степень\n"
     ]
    }
   ],
   "source": [
    "family_status_dict = data[['family_status_id', 'family_status']]\n",
    "family_status_dict = family_status_dict.drop_duplicates().reset_index(drop=True)\n",
    "print(family_status_dict.sort_values('family_status_id', ascending=True))\n",
    "education_dict = data[['education_id', 'education']]\n",
    "education_dict = education_dict.drop_duplicates().reset_index(drop=True)\n",
    "print(education_dict.sort_values('education_id', ascending=True))"
   ]
  },
  {
   "cell_type": "markdown",
   "metadata": {},
   "source": [
    "затем можно в основном датасете удалить столбцы education и family_status для оптимизации таблицы и экономии места:"
   ]
  },
  {
   "cell_type": "code",
   "execution_count": 16,
   "metadata": {},
   "outputs": [
    {
     "name": "stdout",
     "output_type": "stream",
     "text": [
      "Датасет после удаления столбцов:\n",
      "   children  days_employed  dob_years  education_id  family_status_id gender  \\\n",
      "0         1           8437         42             0                 0      F   \n",
      "1         1           4024         36             1                 0      F   \n",
      "2         0           5623         33             1                 0      M   \n",
      "3         3           4124         32             1                 0      M   \n",
      "4         0          14177         53             1                 1      F   \n",
      "\n",
      "  income_type  debt  total_income      purpose  \n",
      "0   сотрудник     0        253875        жилье  \n",
      "1   сотрудник     0        112080   автомобиль  \n",
      "2   сотрудник     0        145885        жилье  \n",
      "3   сотрудник     0        267628  образование  \n",
      "4   пенсионер     0        158616      свадьба  \n"
     ]
    }
   ],
   "source": [
    "data.drop(['education', 'family_status'], axis = 'columns', inplace = True)\n",
    "print('Датасет после удаления столбцов:')\n",
    "print(data.head(5))"
   ]
  },
  {
   "cell_type": "markdown",
   "metadata": {},
   "source": [
    "Разобьем на категории по возрастам, чтобы можно было смотреть статистку в каком возрастном диапазоне чаще имеют проблемы\n",
    "с кредитами. Для этого создадим функцию для определения возрастной категории:"
   ]
  },
  {
   "cell_type": "code",
   "execution_count": 17,
   "metadata": {},
   "outputs": [
    {
     "data": {
      "text/html": [
       "<style  type=\"text/css\" >\n",
       "</style><table id=\"T_e814e826_e6bc_11ea_b6f5_02420a391581\" ><thead>    <tr>        <th class=\"blank level0\" ></th>        <th class=\"col_heading level0 col0\" >Общее кол-во</th>        <th class=\"col_heading level0 col1\" >Кол-во должников</th>        <th class=\"col_heading level0 col2\" >% должников</th>    </tr>    <tr>        <th class=\"index_name level0\" >age_category</th>        <th class=\"blank\" ></th>        <th class=\"blank\" ></th>        <th class=\"blank\" ></th>    </tr></thead><tbody>\n",
       "                <tr>\n",
       "                        <th id=\"T_e814e826_e6bc_11ea_b6f5_02420a391581level0_row0\" class=\"row_heading level0 row0\" >65 и старше</th>\n",
       "                        <td id=\"T_e814e826_e6bc_11ea_b6f5_02420a391581row0_col0\" class=\"data row0 col0\" >895</td>\n",
       "                        <td id=\"T_e814e826_e6bc_11ea_b6f5_02420a391581row0_col1\" class=\"data row0 col1\" >49</td>\n",
       "                        <td id=\"T_e814e826_e6bc_11ea_b6f5_02420a391581row0_col2\" class=\"data row0 col2\" >5.47%</td>\n",
       "            </tr>\n",
       "            <tr>\n",
       "                        <th id=\"T_e814e826_e6bc_11ea_b6f5_02420a391581level0_row1\" class=\"row_heading level0 row1\" >менее 25</th>\n",
       "                        <td id=\"T_e814e826_e6bc_11ea_b6f5_02420a391581row1_col0\" class=\"data row1 col0\" >874</td>\n",
       "                        <td id=\"T_e814e826_e6bc_11ea_b6f5_02420a391581row1_col1\" class=\"data row1 col1\" >88</td>\n",
       "                        <td id=\"T_e814e826_e6bc_11ea_b6f5_02420a391581row1_col2\" class=\"data row1 col2\" >10.07%</td>\n",
       "            </tr>\n",
       "            <tr>\n",
       "                        <th id=\"T_e814e826_e6bc_11ea_b6f5_02420a391581level0_row2\" class=\"row_heading level0 row2\" >от 25 до 34</th>\n",
       "                        <td id=\"T_e814e826_e6bc_11ea_b6f5_02420a391581row2_col0\" class=\"data row2 col0\" >5092</td>\n",
       "                        <td id=\"T_e814e826_e6bc_11ea_b6f5_02420a391581row2_col1\" class=\"data row2 col1\" >563</td>\n",
       "                        <td id=\"T_e814e826_e6bc_11ea_b6f5_02420a391581row2_col2\" class=\"data row2 col2\" >11.06%</td>\n",
       "            </tr>\n",
       "            <tr>\n",
       "                        <th id=\"T_e814e826_e6bc_11ea_b6f5_02420a391581level0_row3\" class=\"row_heading level0 row3\" >от 35 до 44</th>\n",
       "                        <td id=\"T_e814e826_e6bc_11ea_b6f5_02420a391581row3_col0\" class=\"data row3 col0\" >5841</td>\n",
       "                        <td id=\"T_e814e826_e6bc_11ea_b6f5_02420a391581row3_col1\" class=\"data row3 col1\" >482</td>\n",
       "                        <td id=\"T_e814e826_e6bc_11ea_b6f5_02420a391581row3_col2\" class=\"data row3 col2\" >8.25%</td>\n",
       "            </tr>\n",
       "            <tr>\n",
       "                        <th id=\"T_e814e826_e6bc_11ea_b6f5_02420a391581level0_row4\" class=\"row_heading level0 row4\" >от 45 до 54</th>\n",
       "                        <td id=\"T_e814e826_e6bc_11ea_b6f5_02420a391581row4_col0\" class=\"data row4 col0\" >4867</td>\n",
       "                        <td id=\"T_e814e826_e6bc_11ea_b6f5_02420a391581row4_col1\" class=\"data row4 col1\" >345</td>\n",
       "                        <td id=\"T_e814e826_e6bc_11ea_b6f5_02420a391581row4_col2\" class=\"data row4 col2\" >7.09%</td>\n",
       "            </tr>\n",
       "            <tr>\n",
       "                        <th id=\"T_e814e826_e6bc_11ea_b6f5_02420a391581level0_row5\" class=\"row_heading level0 row5\" >от 55 до 64</th>\n",
       "                        <td id=\"T_e814e826_e6bc_11ea_b6f5_02420a391581row5_col0\" class=\"data row5 col0\" >3884</td>\n",
       "                        <td id=\"T_e814e826_e6bc_11ea_b6f5_02420a391581row5_col1\" class=\"data row5 col1\" >214</td>\n",
       "                        <td id=\"T_e814e826_e6bc_11ea_b6f5_02420a391581row5_col2\" class=\"data row5 col2\" >5.51%</td>\n",
       "            </tr>\n",
       "    </tbody></table>"
      ],
      "text/plain": [
       "<pandas.io.formats.style.Styler at 0x7f1114107e10>"
      ]
     },
     "execution_count": 17,
     "metadata": {},
     "output_type": "execute_result"
    }
   ],
   "source": [
    "def age_cat(age):\n",
    "    if age < 25:\n",
    "        return 'менее 25'\n",
    "    if age < 35:\n",
    "        return 'от 25 до 34'\n",
    "    if age < 45:\n",
    "        return 'от 35 до 44'\n",
    "    if age < 55:\n",
    "        return 'от 45 до 54'\n",
    "    if age < 65:\n",
    "        return 'от 55 до 64'\n",
    "    return '65 и старше'\n",
    "data['age_category'] = data ['dob_years'].apply(age_cat)\n",
    "data_age = data.groupby('age_category').agg({'debt':['count', 'sum']})\n",
    "data_age['conversion'] = data_age['debt']['sum'] / data_age['debt']['count'] \n",
    "data_age.columns = ['Общее кол-во', 'Кол-во должников', '% должников']\n",
    "data_age.style.format({'% должников': '{:.2%}'}) "
   ]
  },
  {
   "cell_type": "markdown",
   "metadata": {},
   "source": [
    "Разобьем на категории по уровню дохода:"
   ]
  },
  {
   "cell_type": "code",
   "execution_count": 18,
   "metadata": {},
   "outputs": [
    {
     "name": "stdout",
     "output_type": "stream",
     "text": [
      "   children  days_employed  dob_years  education_id  family_status_id gender  \\\n",
      "0         1           8437         42             0                 0      F   \n",
      "1         1           4024         36             1                 0      F   \n",
      "2         0           5623         33             1                 0      M   \n",
      "3         3           4124         32             1                 0      M   \n",
      "4         0          14177         53             1                 1      F   \n",
      "5         0            926         27             0                 1      M   \n",
      "6         0           2879         43             0                 0      F   \n",
      "7         0            152         50             1                 0      M   \n",
      "8         2           6929         35             0                 1      F   \n",
      "9         0           2188         41             1                 0      M   \n",
      "\n",
      "  income_type  debt  total_income      purpose age_category  \\\n",
      "0   сотрудник     0        253875        жилье  от 35 до 44   \n",
      "1   сотрудник     0        112080   автомобиль  от 35 до 44   \n",
      "2   сотрудник     0        145885        жилье  от 25 до 34   \n",
      "3   сотрудник     0        267628  образование  от 25 до 34   \n",
      "4   пенсионер     0        158616      свадьба  от 45 до 54   \n",
      "5   компаньон     0        255763        жилье  от 25 до 34   \n",
      "6   компаньон     0        240525        жилье  от 35 до 44   \n",
      "7   сотрудник     0        135823  образование  от 45 до 54   \n",
      "8   сотрудник     0         95856      свадьба  от 35 до 44   \n",
      "9   сотрудник     0        144425        жилье  от 35 до 44   \n",
      "\n",
      "                 income_category  \n",
      "0            от 250 тысяч рублей  \n",
      "1  от 100 до 149,99 тысяч рублей  \n",
      "2  от 100 до 149,99 тысяч рублей  \n",
      "3            от 250 тысяч рублей  \n",
      "4  от 150 до 199,99 тысяч рублей  \n",
      "5            от 250 тысяч рублей  \n",
      "6  от 200 до 249,99 тысяч рублей  \n",
      "7  от 100 до 149,99 тысяч рублей  \n",
      "8         менее 100 тысяч рублей  \n",
      "9  от 100 до 149,99 тысяч рублей  \n"
     ]
    }
   ],
   "source": [
    "def income_cat(income):\n",
    "    if income < 100000:\n",
    "        return 'менее 100 тысяч рублей'\n",
    "    if income < 150000:\n",
    "        return 'от 100 до 149,99 тысяч рублей'\n",
    "    if income < 200000:\n",
    "        return 'от 150 до 199,99 тысяч рублей'\n",
    "    if income < 250000:\n",
    "        return 'от 200 до 249,99 тысяч рублей'\n",
    "    return 'от 250 тысяч рублей'\n",
    "data['income_category'] = data['total_income'].apply(income_cat)\n",
    "print(data.head(10))"
   ]
  },
  {
   "cell_type": "markdown",
   "metadata": {},
   "source": [
    "### Для оптимизации таблицы и экономии места были созданы словари education_dict и family_status_dict. Столбцы education и family_status были удалены. Таблица стала компактней, наглядней. Ранее 12 столбцов помещались только в 3 строки, теперь в 2. \n",
    "### Также был создан новый столбец age_category и все данные были категоризированы по возрастным категориям. Из полученных данных можно сделать вывод, что чаще всего имеют плохие долги люди в возрасте от 25 до 34 лет (11,056% плохих долгов).\n",
    "### Кроме того, был создан столбец income_category и данные были разбиты по уровню дохода. Анализ влияния уровня дохода на возврат кредита будет сделан в шаге 3."
   ]
  },
  {
   "cell_type": "markdown",
   "metadata": {},
   "source": [
    "### Шаг 3. Анализ влияния факторов на возврат кредита в срок."
   ]
  },
  {
   "cell_type": "markdown",
   "metadata": {},
   "source": [
    "- Есть ли зависимость между наличием детей и возвратом кредита в срок?"
   ]
  },
  {
   "cell_type": "code",
   "execution_count": 19,
   "metadata": {},
   "outputs": [
    {
     "name": "stdout",
     "output_type": "stream",
     "text": [
      "           debt       conversion\n",
      "          count   sum           \n",
      "children                        \n",
      "0         14090  1063   0.075444\n",
      "1          4808   444   0.092346\n",
      "2          2052   194   0.094542\n",
      "3           330    27   0.081818\n",
      "4            41     4   0.097561\n",
      "5             9     0   0.000000\n",
      "коэффициент кореляции между количеством детей и невозвратом кредита: (-0.5404537074698131, 0.26825005722815376)\n"
     ]
    }
   ],
   "source": [
    "child_group = data.groupby('children').agg({'debt':['count', 'sum']})\n",
    "child_group['conversion'] = child_group['debt']['sum'] / child_group['debt']['count']\n",
    "child_group.drop([-1, 20], inplace=True) \n",
    "print(child_group)\n",
    "x = [0, 1, 2, 3, 4, 5]\n",
    "print('коэффициент кореляции между количеством детей и невозвратом кредита:'\n",
    "      , pearsonr(x, child_group['conversion']))"
   ]
  },
  {
   "cell_type": "markdown",
   "metadata": {},
   "source": [
    "Удалил аномальное количество детей -1 и 20"
   ]
  },
  {
   "cell_type": "code",
   "execution_count": 20,
   "metadata": {},
   "outputs": [
    {
     "data": {
      "text/html": [
       "<div>\n",
       "<style scoped>\n",
       "    .dataframe tbody tr th:only-of-type {\n",
       "        vertical-align: middle;\n",
       "    }\n",
       "\n",
       "    .dataframe tbody tr th {\n",
       "        vertical-align: top;\n",
       "    }\n",
       "\n",
       "    .dataframe thead th {\n",
       "        text-align: right;\n",
       "    }\n",
       "</style>\n",
       "<table border=\"1\" class=\"dataframe\">\n",
       "  <thead>\n",
       "    <tr style=\"text-align: right;\">\n",
       "      <th></th>\n",
       "      <th>debt</th>\n",
       "    </tr>\n",
       "    <tr>\n",
       "      <th>children</th>\n",
       "      <th></th>\n",
       "    </tr>\n",
       "  </thead>\n",
       "  <tbody>\n",
       "    <tr>\n",
       "      <td>-1</td>\n",
       "      <td>0.021277</td>\n",
       "    </tr>\n",
       "    <tr>\n",
       "      <td>0</td>\n",
       "      <td>0.075444</td>\n",
       "    </tr>\n",
       "    <tr>\n",
       "      <td>1</td>\n",
       "      <td>0.092346</td>\n",
       "    </tr>\n",
       "    <tr>\n",
       "      <td>2</td>\n",
       "      <td>0.094542</td>\n",
       "    </tr>\n",
       "    <tr>\n",
       "      <td>3</td>\n",
       "      <td>0.081818</td>\n",
       "    </tr>\n",
       "    <tr>\n",
       "      <td>4</td>\n",
       "      <td>0.097561</td>\n",
       "    </tr>\n",
       "    <tr>\n",
       "      <td>5</td>\n",
       "      <td>0.000000</td>\n",
       "    </tr>\n",
       "    <tr>\n",
       "      <td>20</td>\n",
       "      <td>0.105263</td>\n",
       "    </tr>\n",
       "  </tbody>\n",
       "</table>\n",
       "</div>"
      ],
      "text/plain": [
       "              debt\n",
       "children          \n",
       "-1        0.021277\n",
       " 0        0.075444\n",
       " 1        0.092346\n",
       " 2        0.094542\n",
       " 3        0.081818\n",
       " 4        0.097561\n",
       " 5        0.000000\n",
       " 20       0.105263"
      ]
     },
     "execution_count": 20,
     "metadata": {},
     "output_type": "execute_result"
    }
   ],
   "source": [
    "data.pivot_table('debt', index = 'children')\n"
   ]
  },
  {
   "cell_type": "markdown",
   "metadata": {},
   "source": [
    "### Визуально видно, что % невозврата скачет разнонраправленно от изменения кол-ва детей. Коээфициент кореляции далек от -1 и p-value > 0,05, а значит зависимость между количеством детей и % невозврата не линейная. Лучше отдают кредиты те, у кого нет детей или кол-во детей равно 3. А вот у кого 1,2 и 4 ребенка процент невозврата повыше."
   ]
  },
  {
   "cell_type": "markdown",
   "metadata": {},
   "source": [
    "- Есть ли зависимость между семейным положением и возвратом кредита в срок?"
   ]
  },
  {
   "cell_type": "code",
   "execution_count": 21,
   "metadata": {},
   "outputs": [
    {
     "name": "stdout",
     "output_type": "stream",
     "text": [
      "   family_status_id          family_status\n",
      "0                 0        женат / замужем\n",
      "1                 1       гражданский брак\n",
      "2                 2         вдовец / вдова\n",
      "3                 3              в разводе\n",
      "4                 4  Не женат / не замужем\n"
     ]
    },
    {
     "data": {
      "text/html": [
       "<div>\n",
       "<style scoped>\n",
       "    .dataframe tbody tr th:only-of-type {\n",
       "        vertical-align: middle;\n",
       "    }\n",
       "\n",
       "    .dataframe tbody tr th {\n",
       "        vertical-align: top;\n",
       "    }\n",
       "\n",
       "    .dataframe thead tr th {\n",
       "        text-align: left;\n",
       "    }\n",
       "\n",
       "    .dataframe thead tr:last-of-type th {\n",
       "        text-align: right;\n",
       "    }\n",
       "</style>\n",
       "<table border=\"1\" class=\"dataframe\">\n",
       "  <thead>\n",
       "    <tr>\n",
       "      <th></th>\n",
       "      <th colspan=\"2\" halign=\"left\">debt</th>\n",
       "      <th>conversion</th>\n",
       "    </tr>\n",
       "    <tr>\n",
       "      <th></th>\n",
       "      <th>count</th>\n",
       "      <th>sum</th>\n",
       "      <th></th>\n",
       "    </tr>\n",
       "    <tr>\n",
       "      <th>family_status_id</th>\n",
       "      <th></th>\n",
       "      <th></th>\n",
       "      <th></th>\n",
       "    </tr>\n",
       "  </thead>\n",
       "  <tbody>\n",
       "    <tr>\n",
       "      <td>0</td>\n",
       "      <td>12339</td>\n",
       "      <td>931</td>\n",
       "      <td>0.075452</td>\n",
       "    </tr>\n",
       "    <tr>\n",
       "      <td>1</td>\n",
       "      <td>4150</td>\n",
       "      <td>388</td>\n",
       "      <td>0.093494</td>\n",
       "    </tr>\n",
       "    <tr>\n",
       "      <td>2</td>\n",
       "      <td>959</td>\n",
       "      <td>63</td>\n",
       "      <td>0.065693</td>\n",
       "    </tr>\n",
       "    <tr>\n",
       "      <td>3</td>\n",
       "      <td>1195</td>\n",
       "      <td>85</td>\n",
       "      <td>0.071130</td>\n",
       "    </tr>\n",
       "    <tr>\n",
       "      <td>4</td>\n",
       "      <td>2810</td>\n",
       "      <td>274</td>\n",
       "      <td>0.097509</td>\n",
       "    </tr>\n",
       "  </tbody>\n",
       "</table>\n",
       "</div>"
      ],
      "text/plain": [
       "                   debt      conversion\n",
       "                  count  sum           \n",
       "family_status_id                       \n",
       "0                 12339  931   0.075452\n",
       "1                  4150  388   0.093494\n",
       "2                   959   63   0.065693\n",
       "3                  1195   85   0.071130\n",
       "4                  2810  274   0.097509"
      ]
     },
     "execution_count": 21,
     "metadata": {},
     "output_type": "execute_result"
    }
   ],
   "source": [
    "family_group = data.groupby('family_status_id').agg({'debt':['count', 'sum']})\n",
    "family_group['conversion'] = family_group['debt']['sum'] / family_group['debt']['count']\n",
    "print(family_status_dict)\n",
    "family_group"
   ]
  },
  {
   "cell_type": "code",
   "execution_count": 22,
   "metadata": {},
   "outputs": [
    {
     "data": {
      "text/html": [
       "<div>\n",
       "<style scoped>\n",
       "    .dataframe tbody tr th:only-of-type {\n",
       "        vertical-align: middle;\n",
       "    }\n",
       "\n",
       "    .dataframe tbody tr th {\n",
       "        vertical-align: top;\n",
       "    }\n",
       "\n",
       "    .dataframe thead th {\n",
       "        text-align: right;\n",
       "    }\n",
       "</style>\n",
       "<table border=\"1\" class=\"dataframe\">\n",
       "  <thead>\n",
       "    <tr style=\"text-align: right;\">\n",
       "      <th></th>\n",
       "      <th>debt</th>\n",
       "    </tr>\n",
       "    <tr>\n",
       "      <th>family_status_id</th>\n",
       "      <th></th>\n",
       "    </tr>\n",
       "  </thead>\n",
       "  <tbody>\n",
       "    <tr>\n",
       "      <td>0</td>\n",
       "      <td>0.075452</td>\n",
       "    </tr>\n",
       "    <tr>\n",
       "      <td>1</td>\n",
       "      <td>0.093494</td>\n",
       "    </tr>\n",
       "    <tr>\n",
       "      <td>2</td>\n",
       "      <td>0.065693</td>\n",
       "    </tr>\n",
       "    <tr>\n",
       "      <td>3</td>\n",
       "      <td>0.071130</td>\n",
       "    </tr>\n",
       "    <tr>\n",
       "      <td>4</td>\n",
       "      <td>0.097509</td>\n",
       "    </tr>\n",
       "  </tbody>\n",
       "</table>\n",
       "</div>"
      ],
      "text/plain": [
       "                      debt\n",
       "family_status_id          \n",
       "0                 0.075452\n",
       "1                 0.093494\n",
       "2                 0.065693\n",
       "3                 0.071130\n",
       "4                 0.097509"
      ]
     },
     "execution_count": 22,
     "metadata": {},
     "output_type": "execute_result"
    }
   ],
   "source": [
    "data.pivot_table('debt', index = 'family_status_id')"
   ]
  },
  {
   "cell_type": "markdown",
   "metadata": {},
   "source": [
    "### Из полученных данных делаю вывод, что наибольший % невозвратов среди \"не женат/не замужем\" и \"гражданский брак\". У тех, кто когда либо официально оформлял отношения, % невозврата заметно ниже."
   ]
  },
  {
   "cell_type": "markdown",
   "metadata": {},
   "source": [
    "- Есть ли зависимость между уровнем дохода и возвратом кредита в срок?"
   ]
  },
  {
   "cell_type": "code",
   "execution_count": 23,
   "metadata": {},
   "outputs": [
    {
     "name": "stdout",
     "output_type": "stream",
     "text": [
      "                               debt      conversion\n",
      "                              count  sum           \n",
      "income_category                                    \n",
      "менее 100 тысяч рублей         4463  354   0.079319\n",
      "от 100 до 149,99 тысяч рублей  7160  624   0.087151\n",
      "от 150 до 199,99 тысяч рублей  4764  405   0.085013\n",
      "от 200 до 249,99 тысяч рублей  2253  164   0.072792\n",
      "от 250 тысяч рублей            2813  194   0.068966\n"
     ]
    }
   ],
   "source": [
    "data_income = data.groupby('income_category').agg({'debt':['count', 'sum']})\n",
    "data_income['conversion'] = data_income['debt']['sum'] / data_income['debt']['count'] \n",
    "print(data_income)"
   ]
  },
  {
   "cell_type": "code",
   "execution_count": 24,
   "metadata": {},
   "outputs": [
    {
     "data": {
      "text/html": [
       "<div>\n",
       "<style scoped>\n",
       "    .dataframe tbody tr th:only-of-type {\n",
       "        vertical-align: middle;\n",
       "    }\n",
       "\n",
       "    .dataframe tbody tr th {\n",
       "        vertical-align: top;\n",
       "    }\n",
       "\n",
       "    .dataframe thead th {\n",
       "        text-align: right;\n",
       "    }\n",
       "</style>\n",
       "<table border=\"1\" class=\"dataframe\">\n",
       "  <thead>\n",
       "    <tr style=\"text-align: right;\">\n",
       "      <th></th>\n",
       "      <th>debt</th>\n",
       "    </tr>\n",
       "    <tr>\n",
       "      <th>income_category</th>\n",
       "      <th></th>\n",
       "    </tr>\n",
       "  </thead>\n",
       "  <tbody>\n",
       "    <tr>\n",
       "      <td>менее 100 тысяч рублей</td>\n",
       "      <td>0.079319</td>\n",
       "    </tr>\n",
       "    <tr>\n",
       "      <td>от 100 до 149,99 тысяч рублей</td>\n",
       "      <td>0.087151</td>\n",
       "    </tr>\n",
       "    <tr>\n",
       "      <td>от 150 до 199,99 тысяч рублей</td>\n",
       "      <td>0.085013</td>\n",
       "    </tr>\n",
       "    <tr>\n",
       "      <td>от 200 до 249,99 тысяч рублей</td>\n",
       "      <td>0.072792</td>\n",
       "    </tr>\n",
       "    <tr>\n",
       "      <td>от 250 тысяч рублей</td>\n",
       "      <td>0.068966</td>\n",
       "    </tr>\n",
       "  </tbody>\n",
       "</table>\n",
       "</div>"
      ],
      "text/plain": [
       "                                   debt\n",
       "income_category                        \n",
       "менее 100 тысяч рублей         0.079319\n",
       "от 100 до 149,99 тысяч рублей  0.087151\n",
       "от 150 до 199,99 тысяч рублей  0.085013\n",
       "от 200 до 249,99 тысяч рублей  0.072792\n",
       "от 250 тысяч рублей            0.068966"
      ]
     },
     "execution_count": 24,
     "metadata": {},
     "output_type": "execute_result"
    }
   ],
   "source": [
    "data.pivot_table('debt', index = 'income_category')"
   ]
  },
  {
   "cell_type": "markdown",
   "metadata": {},
   "source": [
    "### Наихудший процент возврата кредита среди людей, получающих от 100 до 200 тысяч рублей. Среди людей получающих больше 200 и меньше 100 процент невозврата заметно ниже."
   ]
  },
  {
   "cell_type": "markdown",
   "metadata": {},
   "source": [
    "- Как разные цели кредита влияют на его возврат в срок?"
   ]
  },
  {
   "cell_type": "code",
   "execution_count": 25,
   "metadata": {},
   "outputs": [
    {
     "name": "stdout",
     "output_type": "stream",
     "text": [
      "              debt      conversion\n",
      "             count  sum           \n",
      "purpose                           \n",
      "автомобиль    4306  403   0.093590\n",
      "жилье         3853  273   0.070854\n",
      "недвижимость  6350  474   0.074646\n",
      "образование   4013  370   0.092200\n",
      "ремонт         607   35   0.057661\n",
      "свадьба       2324  186   0.080034\n"
     ]
    }
   ],
   "source": [
    "data_purpose = data.groupby('purpose').agg({'debt':['count', 'sum']})\n",
    "data_purpose['conversion'] = data_purpose['debt']['sum'] / data_purpose['debt']['count']\n",
    "print(data_purpose)"
   ]
  },
  {
   "cell_type": "code",
   "execution_count": 26,
   "metadata": {},
   "outputs": [
    {
     "data": {
      "text/html": [
       "<div>\n",
       "<style scoped>\n",
       "    .dataframe tbody tr th:only-of-type {\n",
       "        vertical-align: middle;\n",
       "    }\n",
       "\n",
       "    .dataframe tbody tr th {\n",
       "        vertical-align: top;\n",
       "    }\n",
       "\n",
       "    .dataframe thead th {\n",
       "        text-align: right;\n",
       "    }\n",
       "</style>\n",
       "<table border=\"1\" class=\"dataframe\">\n",
       "  <thead>\n",
       "    <tr style=\"text-align: right;\">\n",
       "      <th></th>\n",
       "      <th>debt</th>\n",
       "    </tr>\n",
       "    <tr>\n",
       "      <th>purpose</th>\n",
       "      <th></th>\n",
       "    </tr>\n",
       "  </thead>\n",
       "  <tbody>\n",
       "    <tr>\n",
       "      <td>автомобиль</td>\n",
       "      <td>0.093590</td>\n",
       "    </tr>\n",
       "    <tr>\n",
       "      <td>жилье</td>\n",
       "      <td>0.070854</td>\n",
       "    </tr>\n",
       "    <tr>\n",
       "      <td>недвижимость</td>\n",
       "      <td>0.074646</td>\n",
       "    </tr>\n",
       "    <tr>\n",
       "      <td>образование</td>\n",
       "      <td>0.092200</td>\n",
       "    </tr>\n",
       "    <tr>\n",
       "      <td>ремонт</td>\n",
       "      <td>0.057661</td>\n",
       "    </tr>\n",
       "    <tr>\n",
       "      <td>свадьба</td>\n",
       "      <td>0.080034</td>\n",
       "    </tr>\n",
       "  </tbody>\n",
       "</table>\n",
       "</div>"
      ],
      "text/plain": [
       "                  debt\n",
       "purpose               \n",
       "автомобиль    0.093590\n",
       "жилье         0.070854\n",
       "недвижимость  0.074646\n",
       "образование   0.092200\n",
       "ремонт        0.057661\n",
       "свадьба       0.080034"
      ]
     },
     "execution_count": 26,
     "metadata": {},
     "output_type": "execute_result"
    }
   ],
   "source": [
    "data.pivot_table('debt', index = 'purpose')"
   ]
  },
  {
   "cell_type": "markdown",
   "metadata": {},
   "source": [
    "### Самый высокий % невозвратов по кредитам на автомобиль и образование. Затем идет свадьба. И самые лучшие цели это ремонт, жилье, недвижимость."
   ]
  },
  {
   "cell_type": "markdown",
   "metadata": {},
   "source": [
    "### Шаг 4. Общий вывод"
   ]
  },
  {
   "cell_type": "markdown",
   "metadata": {},
   "source": [
    "Была получена выгрузка от клиента. После анализа выяснилось, что имеются аномальные данные в стаже (отрицательные были заменены на положительные, аномально большие поделены на 24). Также имелись пропуски данных в стаже и общем доходе. Пропуски в стаже были заполнены по линейной регрессии в зависимости от возраста. Пропуски в доходе средним по типу дохода.\n",
    "Были удалены дубликаты строк. Выделены леммы в целях погашения кредита. Данные были категоризированы по сумме дохода и по возрасту.Выявлены зависимости между наличием детей, семейного положения, уровнем дохода и цели на возврат кредита в срок. Наилучший заемщик это вдовец/вдова, не имеет детей, с зарплатой более 250 тысяч рублей который берет кредит на ремонт. Наихудший заемщик не женат/не замужем, имеет 4 детей, имеет доход от 100 до 200 тысяч рублей и берет кредит на автомобиль."
   ]
  },
  {
   "cell_type": "code",
   "execution_count": null,
   "metadata": {},
   "outputs": [],
   "source": []
  }
 ],
 "metadata": {
  "kernelspec": {
   "display_name": "Python 3",
   "language": "python",
   "name": "python3"
  },
  "language_info": {
   "codemirror_mode": {
    "name": "ipython",
    "version": 3
   },
   "file_extension": ".py",
   "mimetype": "text/x-python",
   "name": "python",
   "nbconvert_exporter": "python",
   "pygments_lexer": "ipython3",
   "version": "3.8.3"
  }
 },
 "nbformat": 4,
 "nbformat_minor": 2
}
